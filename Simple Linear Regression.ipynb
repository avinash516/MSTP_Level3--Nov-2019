{
 "cells": [
  {
   "cell_type": "code",
   "execution_count": 3,
   "metadata": {},
   "outputs": [],
   "source": [
    "import numpy as np\n",
    "import matplotlib.pyplot as plt"
   ]
  },
  {
   "cell_type": "code",
   "execution_count": 5,
   "metadata": {},
   "outputs": [
    {
     "data": {
      "text/plain": [
       "array([[0.01243484],\n",
       "       [0.63755939],\n",
       "       [0.09356511],\n",
       "       [0.21160708],\n",
       "       [0.48492989],\n",
       "       [0.91084585],\n",
       "       [0.21437015],\n",
       "       [0.00895035],\n",
       "       [0.60888958],\n",
       "       [0.23875863],\n",
       "       [0.62887124],\n",
       "       [0.3045348 ],\n",
       "       [0.47736209],\n",
       "       [0.6511581 ],\n",
       "       [0.4650307 ],\n",
       "       [0.68769274],\n",
       "       [0.01512783],\n",
       "       [0.6851583 ],\n",
       "       [0.67358291],\n",
       "       [0.36473369],\n",
       "       [0.10990891],\n",
       "       [0.38044663],\n",
       "       [0.53841592],\n",
       "       [0.63363592],\n",
       "       [0.85895566],\n",
       "       [0.46024894],\n",
       "       [0.2176094 ],\n",
       "       [0.83262796],\n",
       "       [0.8811219 ],\n",
       "       [0.5515821 ],\n",
       "       [0.61736839],\n",
       "       [0.1022276 ],\n",
       "       [0.60450185],\n",
       "       [0.29382901],\n",
       "       [0.84425247],\n",
       "       [0.1585582 ],\n",
       "       [0.66983709],\n",
       "       [0.09727284],\n",
       "       [0.14026408],\n",
       "       [0.63167776],\n",
       "       [0.92214533],\n",
       "       [0.85914175],\n",
       "       [0.25411762],\n",
       "       [0.36765054],\n",
       "       [0.86821344],\n",
       "       [0.6017149 ],\n",
       "       [0.23854134],\n",
       "       [0.27044931],\n",
       "       [0.66290044],\n",
       "       [0.35673403],\n",
       "       [0.15195232],\n",
       "       [0.68568777],\n",
       "       [0.6331354 ],\n",
       "       [0.60431155],\n",
       "       [0.45258852],\n",
       "       [0.27118826],\n",
       "       [0.24757252],\n",
       "       [0.64469031],\n",
       "       [0.67102677],\n",
       "       [0.74207165],\n",
       "       [0.79408618],\n",
       "       [0.89903844],\n",
       "       [0.63807855],\n",
       "       [0.86135508],\n",
       "       [0.63781514],\n",
       "       [0.75801287],\n",
       "       [0.61267666],\n",
       "       [0.13823845],\n",
       "       [0.79495366],\n",
       "       [0.19644571],\n",
       "       [0.19564005],\n",
       "       [0.56735442],\n",
       "       [0.20636409],\n",
       "       [0.58887814],\n",
       "       [0.81483137],\n",
       "       [0.05863368],\n",
       "       [0.87683232],\n",
       "       [0.56579745],\n",
       "       [0.99952919],\n",
       "       [0.91191645],\n",
       "       [0.36206073],\n",
       "       [0.66010118],\n",
       "       [0.62927387],\n",
       "       [0.31840452],\n",
       "       [0.58329475],\n",
       "       [0.95712124],\n",
       "       [0.41096428],\n",
       "       [0.954168  ],\n",
       "       [0.14774037],\n",
       "       [0.28083707],\n",
       "       [0.91174899],\n",
       "       [0.20586753],\n",
       "       [0.98001633],\n",
       "       [0.94849601],\n",
       "       [0.91618245],\n",
       "       [0.73077567],\n",
       "       [0.1798742 ],\n",
       "       [0.85691971],\n",
       "       [0.40710973],\n",
       "       [0.22301086]])"
      ]
     },
     "execution_count": 5,
     "metadata": {},
     "output_type": "execute_result"
    }
   ],
   "source": [
    "X = np.random.rand(100,1)\n",
    "X"
   ]
  },
  {
   "cell_type": "code",
   "execution_count": 6,
   "metadata": {},
   "outputs": [],
   "source": [
    "y = 4 + 3*X + np.random.randn(100,1)"
   ]
  },
  {
   "cell_type": "code",
   "execution_count": 7,
   "metadata": {},
   "outputs": [
    {
     "data": {
      "text/plain": [
       "[<matplotlib.lines.Line2D at 0x13ec50c1a58>]"
      ]
     },
     "execution_count": 7,
     "metadata": {},
     "output_type": "execute_result"
    },
    {
     "data": {
      "image/png": "[encoded data removed]",
      "text/plain": [
       "<Figure size 432x288 with 1 Axes>"
      ]
     },
     "metadata": {
      "needs_background": "light"
     },
     "output_type": "display_data"
    }
   ],
   "source": [
    "plt.plot(X,y,'.')"
   ]
  },
  {
   "cell_type": "code",
   "execution_count": 9,
   "metadata": {},
   "outputs": [
    {
     "data": {
      "text/plain": [
       "array([[1.        , 0.01243484],\n",
       "       [1.        , 0.63755939],\n",
       "       [1.        , 0.09356511],\n",
       "       [1.        , 0.21160708],\n",
       "       [1.        , 0.48492989],\n",
       "       [1.        , 0.91084585],\n",
       "       [1.        , 0.21437015],\n",
       "       [1.        , 0.00895035],\n",
       "       [1.        , 0.60888958],\n",
       "       [1.        , 0.23875863],\n",
       "       [1.        , 0.62887124],\n",
       "       [1.        , 0.3045348 ],\n",
       "       [1.        , 0.47736209],\n",
       "       [1.        , 0.6511581 ],\n",
       "       [1.        , 0.4650307 ],\n",
       "       [1.        , 0.68769274],\n",
       "       [1.        , 0.01512783],\n",
       "       [1.        , 0.6851583 ],\n",
       "       [1.        , 0.67358291],\n",
       "       [1.        , 0.36473369],\n",
       "       [1.        , 0.10990891],\n",
       "       [1.        , 0.38044663],\n",
       "       [1.        , 0.53841592],\n",
       "       [1.        , 0.63363592],\n",
       "       [1.        , 0.85895566],\n",
       "       [1.        , 0.46024894],\n",
       "       [1.        , 0.2176094 ],\n",
       "       [1.        , 0.83262796],\n",
       "       [1.        , 0.8811219 ],\n",
       "       [1.        , 0.5515821 ],\n",
       "       [1.        , 0.61736839],\n",
       "       [1.        , 0.1022276 ],\n",
       "       [1.        , 0.60450185],\n",
       "       [1.        , 0.29382901],\n",
       "       [1.        , 0.84425247],\n",
       "       [1.        , 0.1585582 ],\n",
       "       [1.        , 0.66983709],\n",
       "       [1.        , 0.09727284],\n",
       "       [1.        , 0.14026408],\n",
       "       [1.        , 0.63167776],\n",
       "       [1.        , 0.92214533],\n",
       "       [1.        , 0.85914175],\n",
       "       [1.        , 0.25411762],\n",
       "       [1.        , 0.36765054],\n",
       "       [1.        , 0.86821344],\n",
       "       [1.        , 0.6017149 ],\n",
       "       [1.        , 0.23854134],\n",
       "       [1.        , 0.27044931],\n",
       "       [1.        , 0.66290044],\n",
       "       [1.        , 0.35673403],\n",
       "       [1.        , 0.15195232],\n",
       "       [1.        , 0.68568777],\n",
       "       [1.        , 0.6331354 ],\n",
       "       [1.        , 0.60431155],\n",
       "       [1.        , 0.45258852],\n",
       "       [1.        , 0.27118826],\n",
       "       [1.        , 0.24757252],\n",
       "       [1.        , 0.64469031],\n",
       "       [1.        , 0.67102677],\n",
       "       [1.        , 0.74207165],\n",
       "       [1.        , 0.79408618],\n",
       "       [1.        , 0.89903844],\n",
       "       [1.        , 0.63807855],\n",
       "       [1.        , 0.86135508],\n",
       "       [1.        , 0.63781514],\n",
       "       [1.        , 0.75801287],\n",
       "       [1.        , 0.61267666],\n",
       "       [1.        , 0.13823845],\n",
       "       [1.        , 0.79495366],\n",
       "       [1.        , 0.19644571],\n",
       "       [1.        , 0.19564005],\n",
       "       [1.        , 0.56735442],\n",
       "       [1.        , 0.20636409],\n",
       "       [1.        , 0.58887814],\n",
       "       [1.        , 0.81483137],\n",
       "       [1.        , 0.05863368],\n",
       "       [1.        , 0.87683232],\n",
       "       [1.        , 0.56579745],\n",
       "       [1.        , 0.99952919],\n",
       "       [1.        , 0.91191645],\n",
       "       [1.        , 0.36206073],\n",
       "       [1.        , 0.66010118],\n",
       "       [1.        , 0.62927387],\n",
       "       [1.        , 0.31840452],\n",
       "       [1.        , 0.58329475],\n",
       "       [1.        , 0.95712124],\n",
       "       [1.        , 0.41096428],\n",
       "       [1.        , 0.954168  ],\n",
       "       [1.        , 0.14774037],\n",
       "       [1.        , 0.28083707],\n",
       "       [1.        , 0.91174899],\n",
       "       [1.        , 0.20586753],\n",
       "       [1.        , 0.98001633],\n",
       "       [1.        , 0.94849601],\n",
       "       [1.        , 0.91618245],\n",
       "       [1.        , 0.73077567],\n",
       "       [1.        , 0.1798742 ],\n",
       "       [1.        , 0.85691971],\n",
       "       [1.        , 0.40710973],\n",
       "       [1.        , 0.22301086]])"
      ]
     },
     "execution_count": 9,
     "metadata": {},
     "output_type": "execute_result"
    }
   ],
   "source": [
    "X_b = np.c_[np.ones((100,1)),X] #add x0 = 1 to each instance\n",
    "X_b"
   ]
  },
  {
   "cell_type": "code",
   "execution_count": 10,
   "metadata": {},
   "outputs": [],
   "source": [
    "theta_best = np.linalg.inv(X_b.T.dot(X_b)).dot(X_b.T).dot(y)"
   ]
  },
  {
   "cell_type": "code",
   "execution_count": 11,
   "metadata": {},
   "outputs": [
    {
     "data": {
      "text/plain": [
       "array([[4.21672638],\n",
       "       [2.62025393]])"
      ]
     },
     "execution_count": 11,
     "metadata": {},
     "output_type": "execute_result"
    }
   ],
   "source": [
    "theta_best"
   ]
  },
  {
   "cell_type": "markdown",
   "metadata": {},
   "source": [
    "We would have expected 0o = 4 and 01(Theta 1) = 3 instead of above values as we have the Gaussian Noise which made it impossible to recover the exact parameters."
   ]
  },
  {
   "cell_type": "code",
   "execution_count": 75,
   "metadata": {},
   "outputs": [],
   "source": [
    "X_new = np.array([[0],[2]])"
   ]
  },
  {
   "cell_type": "code",
   "execution_count": 76,
   "metadata": {},
   "outputs": [],
   "source": [
    "X_new_b = np.c_[np.ones((2,1)),X_new] "
   ]
  },
  {
   "cell_type": "code",
   "execution_count": 77,
   "metadata": {},
   "outputs": [
    {
     "data": {
      "text/plain": [
       "array([[1., 0.],\n",
       "       [1., 2.]])"
      ]
     },
     "execution_count": 77,
     "metadata": {},
     "output_type": "execute_result"
    }
   ],
   "source": [
    "X_new_b"
   ]
  },
  {
   "cell_type": "code",
   "execution_count": 78,
   "metadata": {},
   "outputs": [],
   "source": [
    "y_predict = X_new_b.dot(theta_best)"
   ]
  },
  {
   "cell_type": "code",
   "execution_count": 79,
   "metadata": {},
   "outputs": [
    {
     "data": {
      "text/plain": [
       "array([[4.17895813],\n",
       "       [9.65141389]])"
      ]
     },
     "execution_count": 79,
     "metadata": {},
     "output_type": "execute_result"
    }
   ],
   "source": [
    "y_predict"
   ]
  },
  {
   "cell_type": "code",
   "execution_count": 80,
   "metadata": {},
   "outputs": [
    {
     "data": {
      "text/plain": [
       "[0, 2, 0, 15]"
      ]
     },
     "execution_count": 80,
     "metadata": {},
     "output_type": "execute_result"
    },
    {
     "data": {
      "image/png": "[encoded data removed]",
      "text/plain": [
       "<Figure size 432x288 with 1 Axes>"
      ]
     },
     "metadata": {
      "needs_background": "light"
     },
     "output_type": "display_data"
    }
   ],
   "source": [
    "plt.plot(X_new,y_predict,'r')\n",
    "plt.plot(X,y,'.')\n",
    "plt.axis([0,2,0,15])"
   ]
  },
  {
   "cell_type": "markdown",
   "metadata": {},
   "source": [
    "The Equivalent code using scikit-learn looks like this:"
   ]
  },
  {
   "cell_type": "code",
   "execution_count": 81,
   "metadata": {},
   "outputs": [
    {
     "data": {
      "text/plain": [
       "(array([4.17895813]), array([[2.73622788]]))"
      ]
     },
     "execution_count": 81,
     "metadata": {},
     "output_type": "execute_result"
    }
   ],
   "source": [
    "from sklearn.linear_model import LinearRegression\n",
    "lin_reg = LinearRegression()\n",
    "lin_reg.fit(X,y)\n",
    "lin_reg.intercept_,lin_reg.coef_"
   ]
  },
  {
   "cell_type": "code",
   "execution_count": 82,
   "metadata": {},
   "outputs": [
    {
     "data": {
      "text/plain": [
       "array([[4.17895813],\n",
       "       [9.65141389]])"
      ]
     },
     "execution_count": 82,
     "metadata": {},
     "output_type": "execute_result"
    }
   ],
   "source": [
    "lin_reg.predict(X_new)"
   ]
  },
  {
   "cell_type": "markdown",
   "metadata": {},
   "source": [
    "#Gradient Descent"
   ]
  },
  {
   "cell_type": "code",
   "execution_count": 83,
   "metadata": {},
   "outputs": [],
   "source": [
    "eta = 0.1 #learning rate\n",
    "n_iterations = 1000\n",
    "m = 100\n",
    "theta = np.random.randn(2,1)"
   ]
  },
  {
   "cell_type": "code",
   "execution_count": 84,
   "metadata": {},
   "outputs": [],
   "source": [
    "for iteration in range(n_iterations):\n",
    "    gradients = 2/m *X_b.T.dot(X_b.dot(theta)-y)\n",
    "    theta = theta - eta*gradients"
   ]
  },
  {
   "cell_type": "code",
   "execution_count": 85,
   "metadata": {},
   "outputs": [
    {
     "data": {
      "text/plain": [
       "array([[4.1789553 ],\n",
       "       [2.73623293]])"
      ]
     },
     "execution_count": 85,
     "metadata": {},
     "output_type": "execute_result"
    }
   ],
   "source": [
    "theta"
   ]
  },
  {
   "cell_type": "markdown",
   "metadata": {},
   "source": [
    "Hey,thats exactly what the normal equation found!Gradient woked perfectly.But what if the learning rate is different for very less values it will take more time and for very high values it will diverge and go out of our bound thats the reason i have chosen moderate value of 0.1"
   ]
  },
  {
   "cell_type": "code",
   "execution_count": null,
   "metadata": {},
   "outputs": [],
   "source": []
  }
 ],
 "metadata": {
  "kernelspec": {
   "display_name": "Python 3",
   "language": "python",
   "name": "python3"
  },
  "language_info": {
   "codemirror_mode": {
    "name": "ipython",
    "version": 3
   },
   "file_extension": ".py",
   "mimetype": "text/x-python",
   "name": "python",
   "nbconvert_exporter": "python",
   "pygments_lexer": "ipython3",
   "version": "3.7.3"
  }
 },
 "nbformat": 4,
 "nbformat_minor": 2
}
