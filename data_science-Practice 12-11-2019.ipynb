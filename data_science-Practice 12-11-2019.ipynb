{
 "cells": [
  {
   "cell_type": "markdown",
   "metadata": {},
   "source": [
    "### Data cleaning\n",
    "* Importing the data set(csv)\n",
    "\n",
    "* observe the Data set\n",
    "     * Identify the rows/columns and their relation\n",
    "     * Identify the Index column(primary key column)\n",
    "     * check if there are any duplicagte column\n",
    "     * which rows to be skipped\n",
    "    \n",
    "* Assign the index column(to avoid creation of new index)\n",
    "* skip irrelevant rows(to avoid display of index row)\n",
    "* drop the duplicate/irrelevant columns"
   ]
  },
  {
   "cell_type": "code",
   "execution_count": 2,
   "metadata": {},
   "outputs": [
    {
     "data": {
      "text/html": [
       "<div>\n",
       "<style scoped>\n",
       "    .dataframe tbody tr th:only-of-type {\n",
       "        vertical-align: middle;\n",
       "    }\n",
       "\n",
       "    .dataframe tbody tr th {\n",
       "        vertical-align: top;\n",
       "    }\n",
       "\n",
       "    .dataframe thead th {\n",
       "        text-align: right;\n",
       "    }\n",
       "</style>\n",
       "<table border=\"1\" class=\"dataframe\">\n",
       "  <thead>\n",
       "    <tr style=\"text-align: right;\">\n",
       "      <th></th>\n",
       "      <th>№ Summer</th>\n",
       "      <th>01 !</th>\n",
       "      <th>02 !</th>\n",
       "      <th>03 !</th>\n",
       "      <th>Total</th>\n",
       "      <th>№ Winter</th>\n",
       "      <th>01 !.1</th>\n",
       "      <th>02 !.1</th>\n",
       "      <th>03 !.1</th>\n",
       "      <th>Total.1</th>\n",
       "      <th>№ Games</th>\n",
       "      <th>01 !.2</th>\n",
       "      <th>02 !.2</th>\n",
       "      <th>03 !.2</th>\n",
       "      <th>Combined total</th>\n",
       "    </tr>\n",
       "  </thead>\n",
       "  <tbody>\n",
       "    <tr>\n",
       "      <td>Afghanistan (AFG)</td>\n",
       "      <td>13</td>\n",
       "      <td>0</td>\n",
       "      <td>0</td>\n",
       "      <td>2</td>\n",
       "      <td>2</td>\n",
       "      <td>0</td>\n",
       "      <td>0</td>\n",
       "      <td>0</td>\n",
       "      <td>0</td>\n",
       "      <td>0</td>\n",
       "      <td>13</td>\n",
       "      <td>0</td>\n",
       "      <td>0</td>\n",
       "      <td>2</td>\n",
       "      <td>2</td>\n",
       "    </tr>\n",
       "    <tr>\n",
       "      <td>Algeria (ALG)</td>\n",
       "      <td>12</td>\n",
       "      <td>5</td>\n",
       "      <td>2</td>\n",
       "      <td>8</td>\n",
       "      <td>15</td>\n",
       "      <td>3</td>\n",
       "      <td>0</td>\n",
       "      <td>0</td>\n",
       "      <td>0</td>\n",
       "      <td>0</td>\n",
       "      <td>15</td>\n",
       "      <td>5</td>\n",
       "      <td>2</td>\n",
       "      <td>8</td>\n",
       "      <td>15</td>\n",
       "    </tr>\n",
       "    <tr>\n",
       "      <td>Argentina (ARG)</td>\n",
       "      <td>23</td>\n",
       "      <td>18</td>\n",
       "      <td>24</td>\n",
       "      <td>28</td>\n",
       "      <td>70</td>\n",
       "      <td>18</td>\n",
       "      <td>0</td>\n",
       "      <td>0</td>\n",
       "      <td>0</td>\n",
       "      <td>0</td>\n",
       "      <td>41</td>\n",
       "      <td>18</td>\n",
       "      <td>24</td>\n",
       "      <td>28</td>\n",
       "      <td>70</td>\n",
       "    </tr>\n",
       "    <tr>\n",
       "      <td>Armenia (ARM)</td>\n",
       "      <td>5</td>\n",
       "      <td>1</td>\n",
       "      <td>2</td>\n",
       "      <td>9</td>\n",
       "      <td>12</td>\n",
       "      <td>6</td>\n",
       "      <td>0</td>\n",
       "      <td>0</td>\n",
       "      <td>0</td>\n",
       "      <td>0</td>\n",
       "      <td>11</td>\n",
       "      <td>1</td>\n",
       "      <td>2</td>\n",
       "      <td>9</td>\n",
       "      <td>12</td>\n",
       "    </tr>\n",
       "    <tr>\n",
       "      <td>Australasia (ANZ) [ANZ]</td>\n",
       "      <td>2</td>\n",
       "      <td>3</td>\n",
       "      <td>4</td>\n",
       "      <td>5</td>\n",
       "      <td>12</td>\n",
       "      <td>0</td>\n",
       "      <td>0</td>\n",
       "      <td>0</td>\n",
       "      <td>0</td>\n",
       "      <td>0</td>\n",
       "      <td>2</td>\n",
       "      <td>3</td>\n",
       "      <td>4</td>\n",
       "      <td>5</td>\n",
       "      <td>12</td>\n",
       "    </tr>\n",
       "    <tr>\n",
       "      <td>...</td>\n",
       "      <td>...</td>\n",
       "      <td>...</td>\n",
       "      <td>...</td>\n",
       "      <td>...</td>\n",
       "      <td>...</td>\n",
       "      <td>...</td>\n",
       "      <td>...</td>\n",
       "      <td>...</td>\n",
       "      <td>...</td>\n",
       "      <td>...</td>\n",
       "      <td>...</td>\n",
       "      <td>...</td>\n",
       "      <td>...</td>\n",
       "      <td>...</td>\n",
       "      <td>...</td>\n",
       "    </tr>\n",
       "    <tr>\n",
       "      <td>Independent Olympic Participants (IOP) [IOP]</td>\n",
       "      <td>1</td>\n",
       "      <td>0</td>\n",
       "      <td>1</td>\n",
       "      <td>2</td>\n",
       "      <td>3</td>\n",
       "      <td>0</td>\n",
       "      <td>0</td>\n",
       "      <td>0</td>\n",
       "      <td>0</td>\n",
       "      <td>0</td>\n",
       "      <td>1</td>\n",
       "      <td>0</td>\n",
       "      <td>1</td>\n",
       "      <td>2</td>\n",
       "      <td>3</td>\n",
       "    </tr>\n",
       "    <tr>\n",
       "      <td>Zambia (ZAM) [ZAM]</td>\n",
       "      <td>12</td>\n",
       "      <td>0</td>\n",
       "      <td>1</td>\n",
       "      <td>1</td>\n",
       "      <td>2</td>\n",
       "      <td>0</td>\n",
       "      <td>0</td>\n",
       "      <td>0</td>\n",
       "      <td>0</td>\n",
       "      <td>0</td>\n",
       "      <td>12</td>\n",
       "      <td>0</td>\n",
       "      <td>1</td>\n",
       "      <td>1</td>\n",
       "      <td>2</td>\n",
       "    </tr>\n",
       "    <tr>\n",
       "      <td>Zimbabwe (ZIM) [ZIM]</td>\n",
       "      <td>12</td>\n",
       "      <td>3</td>\n",
       "      <td>4</td>\n",
       "      <td>1</td>\n",
       "      <td>8</td>\n",
       "      <td>1</td>\n",
       "      <td>0</td>\n",
       "      <td>0</td>\n",
       "      <td>0</td>\n",
       "      <td>0</td>\n",
       "      <td>13</td>\n",
       "      <td>3</td>\n",
       "      <td>4</td>\n",
       "      <td>1</td>\n",
       "      <td>8</td>\n",
       "    </tr>\n",
       "    <tr>\n",
       "      <td>Mixed team (ZZX) [ZZX]</td>\n",
       "      <td>3</td>\n",
       "      <td>8</td>\n",
       "      <td>5</td>\n",
       "      <td>4</td>\n",
       "      <td>17</td>\n",
       "      <td>0</td>\n",
       "      <td>0</td>\n",
       "      <td>0</td>\n",
       "      <td>0</td>\n",
       "      <td>0</td>\n",
       "      <td>3</td>\n",
       "      <td>8</td>\n",
       "      <td>5</td>\n",
       "      <td>4</td>\n",
       "      <td>17</td>\n",
       "    </tr>\n",
       "    <tr>\n",
       "      <td>Totals</td>\n",
       "      <td>27</td>\n",
       "      <td>4809</td>\n",
       "      <td>4775</td>\n",
       "      <td>5130</td>\n",
       "      <td>14714</td>\n",
       "      <td>22</td>\n",
       "      <td>959</td>\n",
       "      <td>958</td>\n",
       "      <td>948</td>\n",
       "      <td>2865</td>\n",
       "      <td>49</td>\n",
       "      <td>5768</td>\n",
       "      <td>5733</td>\n",
       "      <td>6078</td>\n",
       "      <td>17579</td>\n",
       "    </tr>\n",
       "  </tbody>\n",
       "</table>\n",
       "<p>147 rows × 15 columns</p>\n",
       "</div>"
      ],
      "text/plain": [
       "                                              № Summer  01 !  02 !  03 !  \\\n",
       "Afghanistan (AFG)                                   13     0     0     2   \n",
       "Algeria (ALG)                                       12     5     2     8   \n",
       "Argentina (ARG)                                     23    18    24    28   \n",
       "Armenia (ARM)                                        5     1     2     9   \n",
       "Australasia (ANZ) [ANZ]                              2     3     4     5   \n",
       "...                                                ...   ...   ...   ...   \n",
       "Independent Olympic Participants (IOP) [IOP]         1     0     1     2   \n",
       "Zambia (ZAM) [ZAM]                                  12     0     1     1   \n",
       "Zimbabwe (ZIM) [ZIM]                                12     3     4     1   \n",
       "Mixed team (ZZX) [ZZX]                               3     8     5     4   \n",
       "Totals                                              27  4809  4775  5130   \n",
       "\n",
       "                                              Total  № Winter  01 !.1  02 !.1  \\\n",
       "Afghanistan (AFG)                                 2         0       0       0   \n",
       "Algeria (ALG)                                    15         3       0       0   \n",
       "Argentina (ARG)                                  70        18       0       0   \n",
       "Armenia (ARM)                                    12         6       0       0   \n",
       "Australasia (ANZ) [ANZ]                          12         0       0       0   \n",
       "...                                             ...       ...     ...     ...   \n",
       "Independent Olympic Participants (IOP) [IOP]      3         0       0       0   \n",
       "Zambia (ZAM) [ZAM]                                2         0       0       0   \n",
       "Zimbabwe (ZIM) [ZIM]                              8         1       0       0   \n",
       "Mixed team (ZZX) [ZZX]                           17         0       0       0   \n",
       "Totals                                        14714        22     959     958   \n",
       "\n",
       "                                              03 !.1  Total.1  № Games  \\\n",
       "Afghanistan (AFG)                                  0        0       13   \n",
       "Algeria (ALG)                                      0        0       15   \n",
       "Argentina (ARG)                                    0        0       41   \n",
       "Armenia (ARM)                                      0        0       11   \n",
       "Australasia (ANZ) [ANZ]                            0        0        2   \n",
       "...                                              ...      ...      ...   \n",
       "Independent Olympic Participants (IOP) [IOP]       0        0        1   \n",
       "Zambia (ZAM) [ZAM]                                 0        0       12   \n",
       "Zimbabwe (ZIM) [ZIM]                               0        0       13   \n",
       "Mixed team (ZZX) [ZZX]                             0        0        3   \n",
       "Totals                                           948     2865       49   \n",
       "\n",
       "                                              01 !.2  02 !.2  03 !.2  \\\n",
       "Afghanistan (AFG)                                  0       0       2   \n",
       "Algeria (ALG)                                      5       2       8   \n",
       "Argentina (ARG)                                   18      24      28   \n",
       "Armenia (ARM)                                      1       2       9   \n",
       "Australasia (ANZ) [ANZ]                            3       4       5   \n",
       "...                                              ...     ...     ...   \n",
       "Independent Olympic Participants (IOP) [IOP]       0       1       2   \n",
       "Zambia (ZAM) [ZAM]                                 0       1       1   \n",
       "Zimbabwe (ZIM) [ZIM]                               3       4       1   \n",
       "Mixed team (ZZX) [ZZX]                             8       5       4   \n",
       "Totals                                          5768    5733    6078   \n",
       "\n",
       "                                              Combined total  \n",
       "Afghanistan (AFG)                                          2  \n",
       "Algeria (ALG)                                             15  \n",
       "Argentina (ARG)                                           70  \n",
       "Armenia (ARM)                                             12  \n",
       "Australasia (ANZ) [ANZ]                                   12  \n",
       "...                                                      ...  \n",
       "Independent Olympic Participants (IOP) [IOP]               3  \n",
       "Zambia (ZAM) [ZAM]                                         2  \n",
       "Zimbabwe (ZIM) [ZIM]                                       8  \n",
       "Mixed team (ZZX) [ZZX]                                    17  \n",
       "Totals                                                 17579  \n",
       "\n",
       "[147 rows x 15 columns]"
      ]
     },
     "execution_count": 2,
     "metadata": {},
     "output_type": "execute_result"
    }
   ],
   "source": [
    "import pandas as pd\n",
    "df = pd.read_csv('olympics.csv',index_col=0,skiprows=1)\n",
    "df"
   ]
  },
  {
   "cell_type": "markdown",
   "metadata": {},
   "source": [
    "## Data Retrival\n",
    "* Index column \n",
    "* coloum names\n",
    "* Second columns\n",
    "* Any Column\n",
    "* First Row\n",
    "* Any Row\n",
    "* Single Cell data "
   ]
  },
  {
   "cell_type": "code",
   "execution_count": 28,
   "metadata": {},
   "outputs": [
    {
     "data": {
      "text/plain": [
       "11"
      ]
     },
     "execution_count": 28,
     "metadata": {},
     "output_type": "execute_result"
    }
   ],
   "source": [
    "df.index #Returns the Index column  \n",
    "df.columns # Returns the column names or first row\n",
    "df[\"Total\"] # Returns Total column->total medals \n",
    "df[\"Total.1\"]# Returns the Total.1 column\n",
    "df.head(1) # Returns sub data frame with the specified\n",
    "df.index[0]\n",
    "df.loc['India (IND) [F]'] # Returns a single row\n",
    "df.index[1]# Returns the second country name\n",
    "df['01 !'][4] # Returns the gold medals won by the fifth country(column-->row)\n",
    "df.iloc[4][1]# Returns the gold medals won by fifth country(Row-->column)\n",
    "df.loc['India (IND) [F]'][-2]"
   ]
  },
  {
   "cell_type": "code",
   "execution_count": 29,
   "metadata": {},
   "outputs": [
    {
     "data": {
      "text/plain": [
       "'Totals'"
      ]
     },
     "execution_count": 29,
     "metadata": {},
     "output_type": "execute_result"
    }
   ],
   "source": [
    "# Return the name of the first country in the Data\n",
    "\n",
    "df.index[-1]"
   ]
  },
  {
   "cell_type": "code",
   "execution_count": 4,
   "metadata": {},
   "outputs": [
    {
     "data": {
      "text/plain": [
       "8"
      ]
     },
     "execution_count": 4,
     "metadata": {},
     "output_type": "execute_result"
    }
   ],
   "source": [
    "# Return the total number of games participated by the 10th country in summer olymoics\n",
    "df['№ Summer'][9]"
   ]
  },
  {
   "cell_type": "code",
   "execution_count": 32,
   "metadata": {},
   "outputs": [
    {
     "data": {
      "text/plain": [
       "17579"
      ]
     },
     "execution_count": 32,
     "metadata": {},
     "output_type": "execute_result"
    }
   ],
   "source": [
    "#Return the total medals won by the last country\n",
    "df['Combined total'][-1]"
   ]
  },
  {
   "cell_type": "code",
   "execution_count": 33,
   "metadata": {},
   "outputs": [
    {
     "data": {
      "text/plain": [
       "4809"
      ]
     },
     "execution_count": 33,
     "metadata": {},
     "output_type": "execute_result"
    }
   ],
   "source": [
    "# Returns the column name\n",
    "# difference between summer gold medal o\n",
    "#Maximum gold medal count in winter olymipics\n",
    "df['01 !'].max()"
   ]
  },
  {
   "cell_type": "code",
   "execution_count": 34,
   "metadata": {},
   "outputs": [
    {
     "data": {
      "text/plain": [
       "9618"
      ]
     },
     "execution_count": 34,
     "metadata": {},
     "output_type": "execute_result"
    }
   ],
   "source": [
    "#Sum of all gold medals in the summer olympics\n",
    "df['01 !'].sum()"
   ]
  },
  {
   "cell_type": "code",
   "execution_count": 35,
   "metadata": {},
   "outputs": [
    {
     "data": {
      "text/plain": [
       "Afghanistan (AFG)                               False\n",
       "Algeria (ALG)                                   False\n",
       "Argentina (ARG)                                 False\n",
       "Armenia (ARM)                                   False\n",
       "Australasia (ANZ) [ANZ]                         False\n",
       "                                                ...  \n",
       "Independent Olympic Participants (IOP) [IOP]    False\n",
       "Zambia (ZAM) [ZAM]                              False\n",
       "Zimbabwe (ZIM) [ZIM]                            False\n",
       "Mixed team (ZZX) [ZZX]                          False\n",
       "Totals                                           True\n",
       "Name: 01 !, Length: 147, dtype: bool"
      ]
     },
     "execution_count": 35,
     "metadata": {},
     "output_type": "execute_result"
    }
   ],
   "source": [
    "# Return a boolean series object for the maximum number of gold medals in the summer\n",
    "\n",
    "df['01 !'] == df['01 !'].max()"
   ]
  },
  {
   "cell_type": "code",
   "execution_count": null,
   "metadata": {},
   "outputs": [],
   "source": []
  }
 ],
 "metadata": {
  "kernelspec": {
   "display_name": "Python 3",
   "language": "python",
   "name": "python3"
  },
  "language_info": {
   "codemirror_mode": {
    "name": "ipython",
    "version": 3
   },
   "file_extension": ".py",
   "mimetype": "text/x-python",
   "name": "python",
   "nbconvert_exporter": "python",
   "pygments_lexer": "ipython3",
   "version": "3.7.4"
  }
 },
 "nbformat": 4,
 "nbformat_minor": 2
}
